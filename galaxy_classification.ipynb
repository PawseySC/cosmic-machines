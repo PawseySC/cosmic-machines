{
 "cells": [
  {
   "cell_type": "markdown",
   "metadata": {},
   "source": [
    "# Cosmic Machines - An Introduction to Machine Learning for observational astronomy\n",
    "Developed by Lachlan Campbell"
   ]
  },
  {
   "attachments": {},
   "cell_type": "markdown",
   "metadata": {},
   "source": [
    "## **Before running this notebook it’s important to tell Colab that we want to use a GPU.**\n",
    "\n",
    "Click on the ‘Runtime’ tab and select ‘Change runtime type’. A pop-up window will open up with a drop-down menu. Select ‘GPU’ from the menu and click ‘Save’.\n",
    "\n",
    "<img src=\"change_runtime.png\" width=\"250\" align=\"left\"><img src=\"gpu.png\" width=\"350\" align=\"center\">"
   ]
  },
  {
   "attachments": {},
   "cell_type": "markdown",
   "metadata": {},
   "source": [
    "In order to run the notebook, you first need to install the necessary packages, using the code cell below. However, when you run the first cell, you will face a pop-up saying ‘Warning: This notebook was not authored by Google’; you should leave the default tick in the ‘Reset all runtimes before running’ check box and click on ‘Run Anyway’.\n",
    "<img src=\"google_warning.png\" width=\"500\" align=\"center\">"
   ]
  },
  {
   "cell_type": "code",
   "execution_count": null,
   "metadata": {},
   "outputs": [],
   "source": [
    "!curl -s https://course.fast.ai/setup/colab | bash"
   ]
  },
  {
   "cell_type": "markdown",
   "metadata": {},
   "source": [
    "Download the images from Google Drive:"
   ]
  },
  {
   "cell_type": "code",
   "execution_count": null,
   "metadata": {},
   "outputs": [],
   "source": [
    "!gdown https://drive.google.com/uc?id=1kXTFPIOp6ctIn4RJ8RoxMhklulpC6SV9"
   ]
  },
  {
   "attachments": {},
   "cell_type": "markdown",
   "metadata": {},
   "source": [
    "If successful you should see something similar to below. If there is a connection error during the download, simply run the cell again until the download is complete.\n",
    "![download_images](download_images.png)\n",
    "<div style=\"text-align:center;font-size:80%\"> <a href= ''></a></div>"
   ]
  },
  {
   "cell_type": "markdown",
   "metadata": {},
   "source": [
    "Download the labels:"
   ]
  },
  {
   "cell_type": "code",
   "execution_count": null,
   "metadata": {},
   "outputs": [],
   "source": [
    "!gdown https://drive.google.com/uc?id=1cBCgj-9bnsW91X4vEiuNm8Ms4XJ3MfYo"
   ]
  },
  {
   "cell_type": "markdown",
   "metadata": {},
   "source": [
    "After the downloads have completed, if we look at our working directory we should see\n",
    "![list_files](list_files.png)\n",
    "<div style=\"text-align:center;font-size:80%\"> <a href= ''></a></div>"
   ]
  },
  {
   "cell_type": "code",
   "execution_count": null,
   "metadata": {},
   "outputs": [],
   "source": [
    "!ls -l"
   ]
  },
  {
   "attachments": {},
   "cell_type": "markdown",
   "metadata": {},
   "source": [
    "Next, you need to unzip the files you’ve just downloaded:"
   ]
  },
  {
   "cell_type": "code",
   "execution_count": null,
   "metadata": {},
   "outputs": [],
   "source": [
    "!unzip training_solutions_rev1.zip"
   ]
  },
  {
   "cell_type": "code",
   "execution_count": null,
   "metadata": {},
   "outputs": [],
   "source": [
    "!unzip images_training_rev1.zip"
   ]
  },
  {
   "cell_type": "markdown",
   "metadata": {},
   "source": [
    "## Data exploration\n",
    "\n",
    "Labelled galaxy images from Galaxy Zoo "
   ]
  },
  {
   "cell_type": "markdown",
   "metadata": {},
   "source": [
    "![classification_decision_tree](classification_decision_tree.png)\n",
    "<div style=\"text-align:center;font-size:80%\"> <a href= ''></a></div>\n",
    "\n",
    "![classification_flowchart](classification_flowchart.png)\n",
    "<div style=\"text-align:center;font-size:80%\"> <a href= ''></a></div>"
   ]
  },
  {
   "cell_type": "markdown",
   "metadata": {},
   "source": [
    "### Classes derived from the Galaxy Zoo decision tree\n",
    "1.1 Round\n",
    "1.2 Features or Disk\n",
    "1.3 Star or Artifact\n",
    "2.1 Edge-on disk\n",
    "2.2 Not edge-on disk\n",
    "3.1 Central bar\n",
    "3.2 No central bar\n",
    "4.1 Spiral arm\n",
    "4.2 No spiral arm\n",
    "5.1 No bulge\n",
    "5.2 Just noticeable bulge\n",
    "5.3 Obvious bulge\n",
    "5.4 Dominant bulge\n",
    "6.1 Something odd\n",
    "6.2 Nothing odd\n",
    "7.1 Round\n",
    "7.2 In-between\n",
    "7.3 Cigar shaped\n",
    "8.1 Ring\n",
    "8.2 Lens or arc\n",
    "8.3 Disturbed\n",
    "8.4 Irregular\n",
    "8.5 Other\n",
    "8.6 Merger\n",
    "8.7 Dust lane\n",
    "9.1 Rounded central bulge\n",
    "9.2 Boxy central bulge\n",
    "9.3 No central bulge\n",
    "10.1 Tightly wound spiral arms\n",
    "10.2 Medium wound spiral arms\n",
    "10.3 Loosely wound spiral arms\n",
    "11.1 One Spiral arm\n",
    "11.2 Two spiral arms\n",
    "11.3 Three spiral arms\n",
    "11.4 Four spiral arms\n",
    "11.5 More than four spiral arms\n",
    "11.6 Can't tell"
   ]
  },
  {
   "cell_type": "code",
   "execution_count": null,
   "metadata": {},
   "outputs": [],
   "source": [
    "%reload_ext autoreload\n",
    "%autoreload 2\n",
    "%matplotlib inline"
   ]
  },
  {
   "cell_type": "code",
   "execution_count": null,
   "metadata": {},
   "outputs": [],
   "source": [
    "# Import pandas\n",
    "import pandas as pd\n",
    "\n",
    "# Read the data file\n",
    "data = pd.read_csv('training_solutions_rev1.csv')\n",
    "\n",
    "# Display the first few rows\n",
    "data.head()"
   ]
  },
  {
   "cell_type": "code",
   "execution_count": null,
   "metadata": {},
   "outputs": [],
   "source": [
    "# Get records containing any missing values\n",
    "data[data.isnull().any(axis=1)]"
   ]
  },
  {
   "cell_type": "code",
   "execution_count": null,
   "metadata": {},
   "outputs": [],
   "source": [
    "# Display dataset summary statistics\n",
    "data.describe()"
   ]
  },
  {
   "cell_type": "code",
   "execution_count": null,
   "metadata": {},
   "outputs": [],
   "source": [
    "classdf = data.copy()"
   ]
  },
  {
   "cell_type": "code",
   "execution_count": null,
   "metadata": {},
   "outputs": [],
   "source": [
    "ring_df = classdf[['GalaxyID', 'Class8.1']]\n",
    "#export_csv = ring_df.to_csv(r'/Users/lachlan/Documents/ADACS/Cosmic Machines/Galaxy classification/ring.csv', index = None, header = True)\n",
    "ring_df = ring_df[ring_df['Class8.1'] > 0.7]\n",
    "ring_df['Label'] = 'ring'\n",
    "ring_df.drop('Class8.1', axis=1, inplace=True)\n",
    "ring_df.shape"
   ]
  },
  {
   "cell_type": "code",
   "execution_count": null,
   "metadata": {},
   "outputs": [],
   "source": [
    "merger_df = classdf[['GalaxyID', 'Class8.6']]\n",
    "#export_csv = ring_df.to_csv(r'/Users/lachlan/Documents/ADACS/Cosmic Machines/Galaxy classification/ring.csv', index = None, header = True)\n",
    "merger_df = merger_df[merger_df['Class8.6'] > 0.65]\n",
    "merger_df['Label'] = 'merger'\n",
    "merger_df.drop('Class8.6', axis=1, inplace=True)\n",
    "merger_df.shape"
   ]
  },
  {
   "cell_type": "code",
   "execution_count": null,
   "metadata": {},
   "outputs": [],
   "source": [
    "spiral_one_arm_df = classdf[['GalaxyID', 'Class11.1']]\n",
    "#export_csv = ring_df.to_csv(r'/Users/lachlan/Documents/ADACS/Cosmic Machines/Galaxy classification/ring.csv', index = None, header = True)\n",
    "spiral_one_arm_df = spiral_one_arm_df[spiral_one_arm_df['Class11.1'] > 0.5]\n",
    "spiral_one_arm_df['Label'] = 'spiral - one arm'\n",
    "spiral_one_arm_df.drop('Class11.1', axis=1, inplace=True)\n",
    "spiral_one_arm_df.shape"
   ]
  },
  {
   "cell_type": "code",
   "execution_count": null,
   "metadata": {},
   "outputs": [],
   "source": [
    "barred_spirals_df = classdf[['GalaxyID', 'Class3.1']]\n",
    "#export_csv = ring_df.to_csv(r'/Users/lachlan/Documents/ADACS/Cosmic Machines/Galaxy classification/ring.csv', index = None, header = True)\n",
    "barred_spirals_df = barred_spirals_df[barred_spirals_df['Class3.1'] > 0.85]\n",
    "barred_spirals_df['Label'] = 'barred'\n",
    "barred_spirals_df.drop('Class3.1', axis=1, inplace=True)\n",
    "barred_spirals_df.shape"
   ]
  },
  {
   "cell_type": "code",
   "execution_count": null,
   "metadata": {},
   "outputs": [],
   "source": [
    "elliptical_df = classdf[['GalaxyID', 'Class1.1', 'Class7.2']]\n",
    "#export_csv = ring_df.to_csv(r'/Users/lachlan/Documents/ADACS/Cosmic Machines/Galaxy classification/ring.csv', index = None, header = True)\n",
    "elliptical_df = elliptical_df[(elliptical_df['Class1.1'] > 0.9) & (classdf['Class7.2'] > 0.8)]\n",
    "elliptical_df['Label'] = 'elliptical'\n",
    "elliptical_df.drop(['Class1.1', 'Class7.2'], axis=1, inplace=True)\n",
    "elliptical_df.shape"
   ]
  },
  {
   "cell_type": "code",
   "execution_count": null,
   "metadata": {},
   "outputs": [],
   "source": [
    "edge_on_disk_df = classdf[['GalaxyID', 'Class2.1']]\n",
    "#export_csv = ring_df.to_csv(r'/Users/lachlan/Documents/ADACS/Cosmic Machines/Galaxy classification/ring.csv', index = None, header = True)\n",
    "edge_on_disk_df = edge_on_disk_df[edge_on_disk_df['Class2.1'] > 0.95]\n",
    "edge_on_disk_df['Label'] = 'edge-on disk'\n",
    "edge_on_disk_df.drop('Class2.1', axis=1, inplace=True)\n",
    "edge_on_disk_df.shape"
   ]
  },
  {
   "cell_type": "code",
   "execution_count": null,
   "metadata": {},
   "outputs": [],
   "source": [
    "df = pd.concat([ring_df, merger_df, barred_spirals_df, elliptical_df, edge_on_disk_df], ignore_index=True)\n",
    "df.shape"
   ]
  },
  {
   "cell_type": "markdown",
   "metadata": {},
   "source": [
    "## Training the model\n",
    "\n",
    "Use the fast-ai framework and pytorch"
   ]
  },
  {
   "cell_type": "code",
   "execution_count": null,
   "metadata": {},
   "outputs": [],
   "source": [
    "from fastai.vision import *\n",
    "from fastai.metrics import error_rate"
   ]
  },
  {
   "cell_type": "code",
   "execution_count": null,
   "metadata": {},
   "outputs": [],
   "source": [
    "bs = 64\n",
    "# bs = 16   # uncomment this line if you run out of memory even after clicking Kernel->Restart"
   ]
  },
  {
   "cell_type": "code",
   "execution_count": null,
   "metadata": {},
   "outputs": [],
   "source": [
    "#data = ImageDataBunch.from_folder('galaxy_sample', train='.', valid_pct = 0.2, ds_tfms=get_transforms(), size = 224, bs=bs).normalize(imagenet_stats)\n",
    "data = ImageDataBunch.from_df(path='.', df=df, folder='images_training_rev1', suffix='.jpg', valid_pct = 0.2, ds_tfms=get_transforms(), size = 224, bs=bs).normalize(imagenet_stats)"
   ]
  },
  {
   "cell_type": "code",
   "execution_count": null,
   "metadata": {},
   "outputs": [],
   "source": [
    "print(data.classes)\n",
    "len(data.classes),data.c"
   ]
  },
  {
   "cell_type": "code",
   "execution_count": null,
   "metadata": {},
   "outputs": [],
   "source": [
    "data.show_batch(rows=3, figsize=(11,9))"
   ]
  },
  {
   "cell_type": "code",
   "execution_count": null,
   "metadata": {},
   "outputs": [],
   "source": [
    "learn = cnn_learner(data, models.resnet34, metrics=error_rate)"
   ]
  },
  {
   "cell_type": "code",
   "execution_count": null,
   "metadata": {},
   "outputs": [],
   "source": [
    "learn.model"
   ]
  },
  {
   "cell_type": "code",
   "execution_count": null,
   "metadata": {},
   "outputs": [],
   "source": [
    "learn.fit_one_cycle(4)"
   ]
  },
  {
   "cell_type": "code",
   "execution_count": null,
   "metadata": {},
   "outputs": [],
   "source": [
    "learn.unfreeze()"
   ]
  },
  {
   "cell_type": "code",
   "execution_count": null,
   "metadata": {},
   "outputs": [],
   "source": [
    "learn.lr_find()"
   ]
  },
  {
   "cell_type": "code",
   "execution_count": null,
   "metadata": {},
   "outputs": [],
   "source": [
    "learn.recorder.plot()"
   ]
  },
  {
   "cell_type": "code",
   "execution_count": null,
   "metadata": {},
   "outputs": [],
   "source": [
    "learn.unfreeze()\n",
    "learn.fit_one_cycle(10, max_lr=slice(1e-3,1e-2))"
   ]
  },
  {
   "cell_type": "code",
   "execution_count": null,
   "metadata": {},
   "outputs": [],
   "source": [
    "interp = ClassificationInterpretation.from_learner(learn)\n",
    "\n",
    "losses,idxs = interp.top_losses()\n",
    "\n",
    "len(data.valid_ds)==len(losses)==len(idxs)"
   ]
  },
  {
   "cell_type": "code",
   "execution_count": null,
   "metadata": {},
   "outputs": [],
   "source": [
    "interp.plot_confusion_matrix(figsize=(12,12), dpi=60)"
   ]
  }
 ],
 "metadata": {
  "kernelspec": {
   "display_name": "Python 3",
   "language": "python",
   "name": "python3"
  },
  "language_info": {
   "codemirror_mode": {
    "name": "ipython",
    "version": 3
   },
   "file_extension": ".py",
   "mimetype": "text/x-python",
   "name": "python",
   "nbconvert_exporter": "python",
   "pygments_lexer": "ipython3",
   "version": "3.6.8"
  }
 },
 "nbformat": 4,
 "nbformat_minor": 2
}
